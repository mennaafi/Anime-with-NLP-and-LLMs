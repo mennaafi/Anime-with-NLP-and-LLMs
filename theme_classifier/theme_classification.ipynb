{
 "cells": [
  {
   "cell_type": "code",
   "execution_count": 1,
   "metadata": {},
   "outputs": [],
   "source": [
    "from transformers import pipeline\n",
    "from nltk import sent_tokenize\n",
    "import nltk\n",
    "import torch\n",
    "from glob import glob\n",
    "import pandas as pd\n",
    "import numpy as np"
   ]
  },
  {
   "cell_type": "code",
   "execution_count": 2,
   "metadata": {},
   "outputs": [
    {
     "name": "stderr",
     "output_type": "stream",
     "text": [
      "[nltk_data] Downloading package punkt to\n",
      "[nltk_data]     C:\\Users\\user\\AppData\\Roaming\\nltk_data...\n",
      "[nltk_data]   Package punkt is already up-to-date!\n"
     ]
    },
    {
     "data": {
      "text/plain": [
       "True"
      ]
     },
     "execution_count": 2,
     "metadata": {},
     "output_type": "execute_result"
    }
   ],
   "source": [
    "nltk.download(\"punkt\")"
   ]
  },
  {
   "cell_type": "markdown",
   "metadata": {},
   "source": [
    "## Load theme classifier ( Zero shot classifier Model ) :"
   ]
  },
  {
   "cell_type": "code",
   "execution_count": 3,
   "metadata": {},
   "outputs": [],
   "source": [
    "model_name = \"facebook/bart-large-mnli\"\n",
    "device = 0 if torch.cuda.is_available() else \"cpu\""
   ]
  },
  {
   "cell_type": "code",
   "execution_count": 4,
   "metadata": {},
   "outputs": [],
   "source": [
    "def load_model(device):\n",
    "    theme_classifier = pipeline(\n",
    "        \"zero-shot-classification\",\n",
    "        model=model_name,\n",
    "        device=device\n",
    "    )\n",
    "\n",
    "    return theme_classifier"
   ]
  },
  {
   "cell_type": "code",
   "execution_count": 5,
   "metadata": {},
   "outputs": [],
   "source": [
    "theme_classifier = load_model(device)"
   ]
  },
  {
   "cell_type": "code",
   "execution_count": 6,
   "metadata": {},
   "outputs": [],
   "source": [
    "theme_list = [\"friendship\",\"hope\",\"sacrifice\",\"battle\",\"self development\",\"betrayal\",\"love\",\"dialogue\"]"
   ]
  },
  {
   "cell_type": "code",
   "execution_count": 7,
   "metadata": {},
   "outputs": [
    {
     "data": {
      "text/plain": [
       "{'sequence': 'I gave him a right hook then a left jab',\n",
       " 'labels': ['battle',\n",
       "  'self development',\n",
       "  'hope',\n",
       "  'sacrifice',\n",
       "  'dialogue',\n",
       "  'betrayal',\n",
       "  'love',\n",
       "  'friendship'],\n",
       " 'scores': [0.9121254682540894,\n",
       "  0.475002646446228,\n",
       "  0.08781813830137253,\n",
       "  0.045000508427619934,\n",
       "  0.020133016631007195,\n",
       "  0.012040519155561924,\n",
       "  0.004292406141757965,\n",
       "  0.0028172244783490896]}"
      ]
     },
     "execution_count": 7,
     "metadata": {},
     "output_type": "execute_result"
    }
   ],
   "source": [
    "theme_classifier(\n",
    "    \"I gave him a right hook then a left jab\",\n",
    "    theme_list ,\n",
    "    multi_label = True\n",
    ")"
   ]
  },
  {
   "cell_type": "markdown",
   "metadata": {},
   "source": [
    "## Load subtitles Dataset :"
   ]
  },
  {
   "cell_type": "code",
   "execution_count": 8,
   "metadata": {},
   "outputs": [],
   "source": [
    "files = glob(\"../data/subtitles/*.ass\")"
   ]
  },
  {
   "cell_type": "code",
   "execution_count": 9,
   "metadata": {},
   "outputs": [
    {
     "data": {
      "text/plain": [
       "['../data/subtitles\\\\Naruto Season 1 - 01.ass',\n",
       " '../data/subtitles\\\\Naruto Season 1 - 02.ass',\n",
       " '../data/subtitles\\\\Naruto Season 1 - 03.ass']"
      ]
     },
     "execution_count": 9,
     "metadata": {},
     "output_type": "execute_result"
    }
   ],
   "source": [
    "files[:3]"
   ]
  },
  {
   "cell_type": "code",
   "execution_count": 10,
   "metadata": {},
   "outputs": [],
   "source": [
    "with open(files[0],'r') as file:\n",
    "    lines = file.readlines()\n",
    "    lines = lines[27:]\n",
    "    lines =  [ \",\".join(line.split(',')[9:])  for line in lines ]"
   ]
  },
  {
   "cell_type": "code",
   "execution_count": 11,
   "metadata": {},
   "outputs": [
    {
     "data": {
      "text/plain": [
       "['A long time ago, a powerful demon fox\\\\Nappeared with nine tails.\\n',\n",
       " 'With its powerful tails,\\n',\n",
       " 'it could smash mountains\\\\Nand create tidal waves.\\n',\n",
       " 'A band of Ninjas rose to\\\\Ndefend their village from attack.\\n',\n",
       " 'We have to wait until\\\\Nthe Fourth Hokage gets here!\\n',\n",
       " \"We can't let it get any closer\\\\Nto our village!\\n\",\n",
       " 'One great Ninja was able to\\\\Nimprison the monster,\\n',\n",
       " 'but died in the process.\\n',\n",
       " 'This Ninja was known asâ€¦\\\\Nthe Fourth Hokage.\\n',\n",
       " 'Naruto!\\n',\n",
       " 'Why did you do such a thing?!\\n',\n",
       " \"You're really gonna get it this time!\\n\",\n",
       " \"I don't care!\\n\",\n",
       " 'You know your problem?\\n',\n",
       " \"You can't do the things I do!\\n\",\n",
       " 'Only I can do this!\\n',\n",
       " \"I'm better than all of you!\\\\NBelieve it!\\n\",\n",
       " \"There's a problem, sir!\\n\",\n",
       " 'Lord Hokage!\\n',\n",
       " 'What is it?\\n',\n",
       " 'Did that Naruto do something again?\\n',\n",
       " 'Yes. He climbed onto\\\\Nthe Mountainside Imagesâ€¦\\n',\n",
       " 'And he vandalized and\\\\Ngraffitied all over them!\\n',\n",
       " 'Wait!\\n',\n",
       " 'Ha haâ€¦\\n',\n",
       " 'Why should I?\\n',\n",
       " 'Hey, Naruto!\\n',\n",
       " 'How did you suddenly get here,\\\\Nlruka Sensei?\\n',\n",
       " 'The question is what are you doing here\\\\Nwhen you should be in class now?\\n',\n",
       " 'Now listen, Naruto.\\n',\n",
       " 'You failed the last graduation test\\\\Nand the one before that.\\n',\n",
       " 'This is no time\\\\Nto be goofing off, you fool!\\n',\n",
       " 'We will have a re-test on\\\\Nthe Transformation Jutsu!\\n',\n",
       " 'Even those who already passed\\\\Nwill take it!\\n',\n",
       " 'Whaaaat?!\\n',\n",
       " 'Sakura Haruno. Here I goâ€¦\\n',\n",
       " 'Transform!\\n',\n",
       " 'OK!\\n',\n",
       " 'I did it!\\n',\n",
       " 'Cha!\\n',\n",
       " 'Did you see that, Sasuke?\\n',\n",
       " 'Next, Sasuke Uchiha.\\n',\n",
       " 'Yes.\\n',\n",
       " 'O-OK.\\n',\n",
       " 'Next, Naruto Uzumaki.\\n',\n",
       " 'This is a real pain.\\n',\n",
       " \"And it's all your fault.\\n\",\n",
       " 'Like I care!!\\n',\n",
       " 'OKâ€¦\\n',\n",
       " 'Good luck, Narutoâ€¦\\n',\n",
       " 'Transform!\\n',\n",
       " 'How was it?\\n',\n",
       " 'I call it the \"Sexy Jutsu\"!\\n',\n",
       " 'You fool!\\\\NStop making idiotic spells!\\n',\n",
       " 'Darnâ€¦\\n',\n",
       " 'Darnâ€¦\\n',\n",
       " \"I won't let you go home\\\\Nunless you clean that all up.\\n\",\n",
       " \"I don't careâ€¦\\n\",\n",
       " \"There's nobody home anyway.\\n\",\n",
       " 'Naruto...\\n',\n",
       " 'What is it this time?\\n',\n",
       " 'What I meant wasâ€¦\\n',\n",
       " \"If you clean up all that mess,\\\\NI'll buy you ramen tonight.\\n\",\n",
       " 'Huh?!\\n',\n",
       " 'Yes!\\\\NI-I will finish it no time!\\n',\n",
       " 'Enter: Naruto Uzumaki!\\n',\n",
       " 'Naruto.\\n',\n",
       " 'Why did you vandalize those faces?\\n',\n",
       " \"Don't you know who\\\\Nthe Hokage leaders are?\\n\",\n",
       " 'Of course, I do!\\n',\n",
       " 'I know they earned the title\\\\NLord Hokage\\n',\n",
       " 'because they were the best Ninja\\\\Nof their time, right?\\n',\n",
       " 'Especially the Fourth Hokage\\\\Nwas a hero\\n',\n",
       " 'who saved the village from\\\\Nthe nine-tail demon fox.\\n',\n",
       " 'Then why did you do that?\\n',\n",
       " \"Because I'll become a Hokage myself.\\n\",\n",
       " \"And I'll be the greatest Hokage\\\\Nof all time!\\n\",\n",
       " 'So that everyone will finally\\\\Nlearn to accept me!\\n',\n",
       " 'By the way, Sensei,\\\\NI have a favor to ask.\\n',\n",
       " 'You want another bowl?\\n',\n",
       " 'Mmmmâ€¦Noâ€¦\\n',\n",
       " 'Can I borrow that Leaf headband\\\\Nfor a while?\\n',\n",
       " 'This?\\n',\n",
       " 'No no!\\n',\n",
       " 'This is worn only by those who\\\\Nhave graduated from Ninja Academy.\\n',\n",
       " 'Tomorrow, you willâ€¦\\n',\n",
       " \"You're so mean!\\n\",\n",
       " \"So that's why you took off\\\\Nyour gogglesâ€¦\\n\",\n",
       " 'Humph...\\\\NOne more bowl please!\\n',\n",
       " 'We are now about to begin\\\\Nthe graduation test.\\n',\n",
       " 'When your name is called,\\\\Nproceed to the next classroom.\\n',\n",
       " 'The test is on the Clone Jutsu.\\n',\n",
       " 'Oh noâ€¦\\n',\n",
       " 'Of all theâ€¦! That is my weakest Jutsu!\\n',\n",
       " 'But stillâ€¦\\\\NI will do it no matter what!\\n',\n",
       " 'Clone Jutsu!\\n',\n",
       " 'Disqualified!\\n',\n",
       " 'Iruka Sensei.\\n',\n",
       " 'His physical coordination\\\\Nand stamina are excellent.\\n',\n",
       " 'And he managed to come up\\\\Nwith something.\\n',\n",
       " \"Isn't that enough\\\\Nfor him to pass?\\n\",\n",
       " 'Mizuki Sensei...\\\\NAll the others created three or more clones.\\n',\n",
       " 'Naruto created just one.\\n',\n",
       " \"And it's practically useless.\\\\NI can't give him a passing mark.\\n\",\n",
       " \"I 'm a Ninja now!\\n\",\n",
       " \"You did well. That's my son.\\n\",\n",
       " 'Congratulations for your graduation.\\n',\n",
       " \"I'll cook something good tonight!\\n\",\n",
       " 'Look at that one.\\n',\n",
       " \"It's that boy.\\\\NI hear he's the only one who failed.\\n\",\n",
       " 'Serves him right.\\n',\n",
       " 'Imagine what would happen\\\\Nif he became a Ninja.\\n',\n",
       " \"Isn't that the boy\\\\Nwho is actuallyâ€¦\\n\",\n",
       " \"Hey! We're not supposed to\\\\Ntalk about that.\\n\",\n",
       " 'Iruka.\\\\NWe need to talk later.\\n',\n",
       " 'Yes, sir.\\n',\n",
       " \"Iruka Sensei isn't trying\\\\Nto be mean to you.\\n\",\n",
       " 'Then why only me?\\n',\n",
       " 'He wants you to become strong\\\\Nfrom the bottom of his heart.\\n',\n",
       " \"You both don't have parents.\\n\",\n",
       " 'But I really wanted to graduate.\\n',\n",
       " 'Heh... I guess I have no choiceâ€¦\\n',\n",
       " \"I'll let you in on a big secret.\\n\",\n",
       " 'Secret?\\n',\n",
       " 'Iruka.\\n',\n",
       " 'What is it, Lord Hokage?\\n',\n",
       " 'I know how you feel. Butâ€¦\\n',\n",
       " 'Naruto also grew up without knowing\\\\Nthe love of his parentsâ€¦like you.\\n',\n",
       " 'Let me go!\\n',\n",
       " 'My mom and dad are\\\\Nstill out there fighting!\\n',\n",
       " 'Wake up, Iruka Sensei!\\n',\n",
       " \"What's the matter?\\n\",\n",
       " \"Come to Lord Hokage's immediately!\\n\",\n",
       " 'I heard that Narutoâ€¦\\\\Nstole the Scroll of Sealing.\\n',\n",
       " 'The Scroll of Sealing?!\\n',\n",
       " \"Let's seeâ€¦\\n\",\n",
       " 'The first Jutsu isâ€¦\\\\NMulti-Shadow Clone Jutsu?\\n',\n",
       " \"What?! Already a Jutsu I'm no good at?\\n\",\n",
       " \"Lord Hokage!\\\\NWe can't forgive him!\\n\",\n",
       " 'This is not just a prank!\\n',\n",
       " 'The Scroll is a dangerous item\\\\Nthat the First Hokage sealed!\\n',\n",
       " 'Depending on its useâ€¦\\n',\n",
       " 'It will be a major disaster if\\\\Nit is taken out of the village!\\n',\n",
       " 'Yes. Bring Naruto here at once!\\n',\n",
       " 'Yes, sir!\\n',\n",
       " 'Where did you goâ€¦Naruto?\\n',\n",
       " 'I will tell everyone in the village\\\\Nabout this and eliminate Narutoâ€¦\\n',\n",
       " 'Then the Scroll of Sealing\\\\Nwill be mine!\\n',\n",
       " 'Hey you, Naruto!\\n',\n",
       " 'You found me..\\n',\n",
       " \"And I've only learned one Jutsu.\\n\",\n",
       " \"He's been practicing the Jutsuâ€¦\\n\",\n",
       " \"until he's become\\\\Nthis exhausted and dirtyâ€¦?\\n\",\n",
       " \"Listen, listen!\\\\NI'm gonna show you this amazing Jutsu!\\n\",\n",
       " \"You're gonna let me graduate\\\\Nif I can do it!\\n\",\n",
       " \"Isn't it true that I can graduate if\\\\NI can do one of the Jutsu written here?\\n\",\n",
       " 'Who told you that?\\n',\n",
       " 'Mizuki Sensei. He told me\\\\Nabout this scroll, and this placeâ€¦\\n',\n",
       " 'Mizuki did?!\\n',\n",
       " \"I'm impressed you found this place.\\n\",\n",
       " 'I see nowâ€¦how it is.\\n',\n",
       " 'Naruto, give me that scroll.\\n',\n",
       " \"Wait, waitâ€¦\\\\NWhat's going on here?\\n\",\n",
       " 'Naruto! Never give him that scroll!\\n',\n",
       " 'It is a dangerous object that contains\\\\Nforbidden Ninja Jutsu. It was sealed.\\n',\n",
       " 'Mizuki used you in order to\\\\Nget it for himself!\\n',\n",
       " 'W-Wha--?\\n',\n",
       " 'Naruto, Iruka is only afraid of\\\\Nyou holding that scroll!\\n',\n",
       " 'Huh?\\n',\n",
       " \"What are you saying, Mizuki!\\\\NDon't let him fool you, Naruto!\\n\",\n",
       " 'I will tell you the truth.\\n',\n",
       " \"Idiot! Don't do that!\\n\",\n",
       " 'After an incident 12 years ago,\\\\Na rule was created.\\n',\n",
       " 'A rule?\\n',\n",
       " 'That is, Naruto, a rule everybody\\\\Nbut you knows.\\n',\n",
       " 'Except me?! \\t\\t\\t\\t\\tWhat is it?\\n',\n",
       " 'Stop it, Mizuki!\\n',\n",
       " 'The rule forbids anyone from revealing\\\\Nthat you are actually the Demon Fox Spirit!\\n',\n",
       " 'Huh?\\n',\n",
       " 'You are actually the Demon,\\\\NNine-Tailed Fox Spirit,\\n',\n",
       " \"who killed Iruka's parents and\\\\Ndestroyed our village!\\n\",\n",
       " 'Stop it!\\n',\n",
       " 'Everyone has been\\\\Ndeceiving you ever since.\\n',\n",
       " \"Didn't you find it strange?\\n\",\n",
       " 'Why everyone hated you so much?\\n',\n",
       " 'No! No! No! No! No!\\n',\n",
       " 'Narutoâ€¦\\n',\n",
       " \"Nobody accepts you.\\\\NThat's why Iruka hates you so much!\\n\",\n",
       " 'Iruka... Naruto grew up\\\\Nwithout the love of parents.\\n',\n",
       " 'Everyone avoids him like\\\\Nthe plague after what happened.\\n',\n",
       " \"That's why he keeps misbehaving.\\n\",\n",
       " \"It's the only way for him to get\\\\Nany attention or acknowledgement.\\n\",\n",
       " 'He pretends to be tough,\\\\Nbut inside he is really hurting.\\n',\n",
       " 'Die, Naruto!\\n',\n",
       " 'Naruto! \\t\\t\\t\\t\\tGet down!\\n',\n",
       " 'Whyâ€¦?\\n',\n",
       " 'Because you and I are the same.\\n',\n",
       " 'After my parents died,\\n',\n",
       " 'nobody paid attention to me\\\\Nor gave me any support.\\n',\n",
       " \"I wasn't a good student in school.\\n\",\n",
       " 'I was the class clownâ€¦\\\\Nbecause I wanted people to notice me.\\n',\n",
       " \"I couldn't get noticed through excellence,\\\\Nso I kept doing stupid things.\\n\",\n",
       " 'It was so hard.\\n',\n",
       " \"Isn't that right, Naruto?\\n\",\n",
       " 'You felt so lonelyâ€¦right?\\\\NAnd you suffered inside, right?\\n',\n",
       " \"I'm sorry, Narutoâ€¦.\\n\",\n",
       " \"If I had been more responsible,\\\\Nmaybe you wouldn't have suffered so much.\\n\",\n",
       " \"Don't make me laugh!\\n\",\n",
       " 'Iruka has always hated you,\\\\Never since you killed his parents!\\n',\n",
       " \"He's just saying all that\\\\Nto get the Scroll of Sealing back!\\n\",\n",
       " 'Naruto!\\n',\n",
       " 'Narutoooooo!\\n',\n",
       " 'He is not the type of kid\\\\Nwho will change his mind.\\n',\n",
       " 'He will take revenge against\\\\Nour village using that scroll!\\n',\n",
       " \"Didn't you see his eyes?\\\\NThose are the eyes of a Demon Fox.\\n\",\n",
       " \"Noâ€¦\\\\NNarutoâ€¦isn'tâ€¦like that at all!\\n\",\n",
       " 'All I want is to kill Naruto\\\\Nand get the scroll.\\n',\n",
       " \"I'll take care of you later!\\n\",\n",
       " \"I-I won't let youâ€¦\\n\",\n",
       " 'Well, well.\\n',\n",
       " 'Mizuki has a big mouth!\\n',\n",
       " \"Naruto feels worse than he's ever felt.\\n\",\n",
       " 'He might unleash\\\\Nthe power locked up inside him.\\n',\n",
       " 'The Scroll of Sealing is now with him.\\n',\n",
       " \"There's a slight chance\\\\Nhe might actually release\\n\",\n",
       " 'the Nine-Tailed Fox Spirit\\\\Nsealed inside him!\\n',\n",
       " 'If that happensâ€¦\\n',\n",
       " \"I've found him!\\n\",\n",
       " 'Naruto!\\n',\n",
       " 'Everything that Mizuki said\\\\Nwas a lie!\\n',\n",
       " 'Give me that scroll, quick!\\\\NMizuki is after the scroll!\\n',\n",
       " \"It can't beâ€¦\\n\",\n",
       " 'Why is it, Naruto?\\n',\n",
       " 'Howâ€¦\\n',\n",
       " \"did you know I wasn't Irukaâ€¦?\\n\",\n",
       " \"Because I'm Iruka.\\n\",\n",
       " 'I see.\\n',\n",
       " \"What's in it for you to protect\\\\Nthe one who killed your family?\\n\",\n",
       " \"I'm not gonna let a stupid idiot\\\\Nlike you get that scroll!\\n\",\n",
       " \"You're the idiot.\\\\NNaruto is the same as me.\\n\",\n",
       " 'Same?\\n',\n",
       " 'Anyone can do whatever\\\\Nhe wants once he has the scroll.\\n',\n",
       " 'There is no way that that monsterâ€¦\\n',\n",
       " \"that Fox Spirit, won't take advantage\\\\Nof the power of that scroll!\\n\",\n",
       " \"You're rightâ€¦\\n\",\n",
       " 'I guess it was true all along!\\n',\n",
       " 'See, Iruka Sensei never really\\\\Ncared for me at all!\\n',\n",
       " '...if he was the Demon Fox Spirit.\\n',\n",
       " 'But Naruto is different!\\n',\n",
       " 'I know that he is an exceptional student.\\n',\n",
       " 'He works very hard,\\n',\n",
       " \"and he's single-minded\\\\Nand clumsy at the same time.\\n\",\n",
       " 'No one accepts him, but he knows\\\\Nthe meaning of human suffering.\\n',\n",
       " 'He is not the Demon Fox Spirit.\\n',\n",
       " \"He's Naruto Uzumaki of\\\\Nthe Village Hidden in the Leaves!\\n\",\n",
       " 'You are so gullible. \\t\\t\\t\\t\\tlruka!\\n',\n",
       " 'I was gonna take you down later,\\\\Nbut I have changed my mind.\\n',\n",
       " 'Die!\\n',\n",
       " 'I guess this is the end for meâ€¦\\n',\n",
       " 'Naruto?!\\n',\n",
       " 'You surprised me there, freak.\\n',\n",
       " \"If you ever lay a hand on Iruka Sensei,\\\\NI'll kill you!\\n\",\n",
       " 'Shut up! I can take care of a kid\\\\Nlike you with a single blow!\\n',\n",
       " \"Why don't you try then?\\\\NI'll strike you back a thousand-fold!\\n\",\n",
       " \"Let's see you try!\\\\NShow me what you can do, Demon Fox!\\n\",\n",
       " 'Shadow Clone Jutsu!\\n',\n",
       " \"Naruto! You'veâ€¦\\n\",\n",
       " \"Those aren't just images but actual clones!\\\\NThat's an advanced Ninjutsu!\\n\",\n",
       " \"What's thisâ€¦?\\n\",\n",
       " \"What's the matter? \\t\\t\\t\\t\\tC'mon!\\n\",\n",
       " \"Weren't you gonna get me\\\\Nwith one blow? Here!\\n\",\n",
       " \"In that caseâ€¦\\\\NI'll come to you.\\n\",\n",
       " 'I kinda got carried away.\\\\Nlruka Sensei, are you okay?\\n',\n",
       " 'Yeah.\\n',\n",
       " \"He's really something.\\n\",\n",
       " 'Maybe it is true.\\n',\n",
       " 'Maybe he will surpass all\\\\Nthe Hokage leadersâ€¦\\n',\n",
       " \"Naruto, come over here.\\\\NI'd like to give you something.\\n\",\n",
       " 'Has anyone found Naruto yet?\\n',\n",
       " 'No.\\n',\n",
       " 'Darn, this is going to be badâ€¦\\n',\n",
       " \"There's no need to worry anymore.\\n\",\n",
       " 'Lord Hokage!\\n',\n",
       " \"He'll be back soon.\\n\",\n",
       " 'Sensei, how much longer?\\n',\n",
       " 'OK, you may open your eyes now.\\n',\n",
       " 'Congratulationsâ€¦on your graduation.\\n',\n",
       " \"In celebration, we'll have ramen tonight!\\n\",\n",
       " 'Iruka Sensei!\\n',\n",
       " 'That hurts!\\n',\n",
       " 'Narutoâ€¦\\n',\n",
       " 'I was going to lecture to you...\\n',\n",
       " \"that the road gets more difficult\\\\Nnow that you're a Ninja.\\n\",\n",
       " \"But I guess I'll just wait to tell you\\\\Nthat until we get to the ramen standâ€¦\\n\",\n",
       " 'W-What do you want, you little shrimp?\\\\NQuit following me!\\n',\n",
       " \"You're smaller than me and\\n\",\n",
       " \"you're saying that you're gonna\\\\Nbecome the Fifth Hokage?\\n\",\n",
       " \"I don't care if you are the 3rd Hokage's\\\\Ngrandson or not.\\n\",\n",
       " \"It's not that easy to be a Hokage!\\n\",\n",
       " \"If you want it that bad,\\\\Nyou're gonna have to beat me first!\\n\",\n",
       " 'Next episode:\\\\N \"My Name Is Konohamaru!\"\\n',\n",
       " 'Watch my outstanding performance!\\n']"
      ]
     },
     "execution_count": 11,
     "metadata": {},
     "output_type": "execute_result"
    }
   ],
   "source": [
    "lines"
   ]
  },
  {
   "cell_type": "code",
   "execution_count": 12,
   "metadata": {},
   "outputs": [
    {
     "data": {
      "text/plain": [
       "'A long time ago, a powerful demon fox\\\\Nappeared with nine tails.\\n'"
      ]
     },
     "execution_count": 12,
     "metadata": {},
     "output_type": "execute_result"
    }
   ],
   "source": [
    "lines[0]"
   ]
  },
  {
   "cell_type": "markdown",
   "metadata": {},
   "source": [
    "## Some Cleaning :"
   ]
  },
  {
   "cell_type": "code",
   "execution_count": 13,
   "metadata": {},
   "outputs": [],
   "source": [
    "lines = [ line.replace(\"\\\\N\",\" \") for line in lines ]"
   ]
  },
  {
   "cell_type": "code",
   "execution_count": 14,
   "metadata": {},
   "outputs": [
    {
     "data": {
      "text/plain": [
       "\"A long time ago, a powerful demon fox appeared with nine tails.\\n With its powerful tails,\\n it could smash mountains and create tidal waves.\\n A band of Ninjas rose to defend their village from attack.\\n We have to wait until the Fourth Hokage gets here!\\n We can't let it get any closer to our village!\\n One great Ninja was able to imprison the monster,\\n but died in the process.\\n This Ninja was known asâ€¦ the Fourth Hokage.\\n Naruto!\\n Why did you do such a thing?!\\n You're really gonna get it this time!\\n I don't care!\\n You know your problem?\\n You can't do the things I do!\\n Only I can do this!\\n I'm better than all of you! Believe it!\\n There's a problem, sir!\\n Lord Hokage!\\n What is it?\\n\""
      ]
     },
     "execution_count": 14,
     "metadata": {},
     "output_type": "execute_result"
    }
   ],
   "source": [
    "\" \".join(lines[:20])"
   ]
  },
  {
   "cell_type": "markdown",
   "metadata": {},
   "source": [
    "## Get episode no. :"
   ]
  },
  {
   "cell_type": "code",
   "execution_count": 15,
   "metadata": {},
   "outputs": [
    {
     "data": {
      "text/plain": [
       "'../data/subtitles\\\\Naruto Season 1 - 01.ass'"
      ]
     },
     "execution_count": 15,
     "metadata": {},
     "output_type": "execute_result"
    }
   ],
   "source": [
    "files[0]"
   ]
  },
  {
   "cell_type": "code",
   "execution_count": 16,
   "metadata": {},
   "outputs": [
    {
     "data": {
      "text/plain": [
       "' 01.ass'"
      ]
     },
     "execution_count": 16,
     "metadata": {},
     "output_type": "execute_result"
    }
   ],
   "source": [
    "files[0].split(\"-\")[-1]"
   ]
  },
  {
   "cell_type": "code",
   "execution_count": 17,
   "metadata": {},
   "outputs": [
    {
     "data": {
      "text/plain": [
       "1"
      ]
     },
     "execution_count": 17,
     "metadata": {},
     "output_type": "execute_result"
    }
   ],
   "source": [
    "int(files[0].split(\"-\")[-1].split(\".\")[0].strip())"
   ]
  },
  {
   "cell_type": "markdown",
   "metadata": {},
   "source": [
    "## all these steps In 1 function :"
   ]
  },
  {
   "cell_type": "code",
   "execution_count": 18,
   "metadata": {},
   "outputs": [],
   "source": [
    "def load_subtitles_dataset(dataset_path):\n",
    "    subtitles_paths = glob(dataset_path+'/*.ass')\n",
    "\n",
    "    scripts=[]\n",
    "    episode_num=[]\n",
    "\n",
    "    for path in subtitles_paths:\n",
    "\n",
    "        # read Lines\n",
    "        with open(path, 'r', encoding='utf-8') as file: \n",
    "            lines = file.readlines()\n",
    "            lines = lines[27:]\n",
    "            lines =  [ \",\".join(line.split(',')[9:])  for line in lines ]\n",
    "        \n",
    "       # clean \n",
    "        lines = [ line.replace('\\\\N',' ') for line in lines]\n",
    "        # join some lines\n",
    "        script = \" \".join(lines)\n",
    "        # get no. of episode \n",
    "        episode = int(path.split('-')[-1].split('.')[0].strip())\n",
    "\n",
    "        scripts.append(script)\n",
    "        episode_num.append(episode)\n",
    "\n",
    "    df = pd.DataFrame.from_dict({\"episode\":episode_num, \"script\":scripts })\n",
    "    return df"
   ]
  },
  {
   "cell_type": "code",
   "execution_count": 19,
   "metadata": {},
   "outputs": [
    {
     "data": {
      "text/html": [
       "<div>\n",
       "<style scoped>\n",
       "    .dataframe tbody tr th:only-of-type {\n",
       "        vertical-align: middle;\n",
       "    }\n",
       "\n",
       "    .dataframe tbody tr th {\n",
       "        vertical-align: top;\n",
       "    }\n",
       "\n",
       "    .dataframe thead th {\n",
       "        text-align: right;\n",
       "    }\n",
       "</style>\n",
       "<table border=\"1\" class=\"dataframe\">\n",
       "  <thead>\n",
       "    <tr style=\"text-align: right;\">\n",
       "      <th></th>\n",
       "      <th>episode</th>\n",
       "      <th>script</th>\n",
       "    </tr>\n",
       "  </thead>\n",
       "  <tbody>\n",
       "    <tr>\n",
       "      <th>0</th>\n",
       "      <td>1</td>\n",
       "      <td>A long time ago, a powerful demon fox appeared...</td>\n",
       "    </tr>\n",
       "    <tr>\n",
       "      <th>1</th>\n",
       "      <td>2</td>\n",
       "      <td>C'mon!\\n Running like a fugitive,\\n Being chas...</td>\n",
       "    </tr>\n",
       "    <tr>\n",
       "      <th>2</th>\n",
       "      <td>3</td>\n",
       "      <td>C'mon!\\n Running like a fugitive,\\n Being chas...</td>\n",
       "    </tr>\n",
       "    <tr>\n",
       "      <th>3</th>\n",
       "      <td>4</td>\n",
       "      <td>C'mon!\\n Running like a fugitive,\\n Being chas...</td>\n",
       "    </tr>\n",
       "    <tr>\n",
       "      <th>4</th>\n",
       "      <td>5</td>\n",
       "      <td>C'mon!\\n Running like a fugitive,\\n Being chas...</td>\n",
       "    </tr>\n",
       "  </tbody>\n",
       "</table>\n",
       "</div>"
      ],
      "text/plain": [
       "   episode                                             script\n",
       "0        1  A long time ago, a powerful demon fox appeared...\n",
       "1        2  C'mon!\\n Running like a fugitive,\\n Being chas...\n",
       "2        3  C'mon!\\n Running like a fugitive,\\n Being chas...\n",
       "3        4  C'mon!\\n Running like a fugitive,\\n Being chas...\n",
       "4        5  C'mon!\\n Running like a fugitive,\\n Being chas..."
      ]
     },
     "execution_count": 19,
     "metadata": {},
     "output_type": "execute_result"
    }
   ],
   "source": [
    "dataset_path = \"../data/subtitles\"\n",
    "df = load_subtitles_dataset(dataset_path)\n",
    "df.head()"
   ]
  },
  {
   "cell_type": "markdown",
   "metadata": {},
   "source": [
    "### Run Model on df :"
   ]
  },
  {
   "cell_type": "code",
   "execution_count": 20,
   "metadata": {},
   "outputs": [
    {
     "data": {
      "text/plain": [
       "'A long time ago, a powerful demon fox appeared with nine tails.\\n With its powerful tails,\\n it could smash mountains and create tidal waves.\\n A band of Ninjas rose to defend their village from attack.\\n We have to wait until the Fourth Hokage gets here!\\n We can\\'t let it get any closer to our village!\\n One great Ninja was able to imprison the monster,\\n but died in the process.\\n This Ninja was known as… the Fourth Hokage.\\n Naruto!\\n Why did you do such a thing?!\\n You\\'re really gonna get it this time!\\n I don\\'t care!\\n You know your problem?\\n You can\\'t do the things I do!\\n Only I can do this!\\n I\\'m better than all of you! Believe it!\\n There\\'s a problem, sir!\\n Lord Hokage!\\n What is it?\\n Did that Naruto do something again?\\n Yes. He climbed onto the Mountainside Images…\\n And he vandalized and graffitied all over them!\\n Wait!\\n Ha ha…\\n Why should I?\\n Hey, Naruto!\\n How did you suddenly get here, lruka Sensei?\\n The question is what are you doing here when you should be in class now?\\n Now listen, Naruto.\\n You failed the last graduation test and the one before that.\\n This is no time to be goofing off, you fool!\\n We will have a re-test on the Transformation Jutsu!\\n Even those who already passed will take it!\\n Whaaaat?!\\n Sakura Haruno. Here I go…\\n Transform!\\n OK!\\n I did it!\\n Cha!\\n Did you see that, Sasuke?\\n Next, Sasuke Uchiha.\\n Yes.\\n O-OK.\\n Next, Naruto Uzumaki.\\n This is a real pain.\\n And it\\'s all your fault.\\n Like I care!!\\n OK…\\n Good luck, Naruto…\\n Transform!\\n How was it?\\n I call it the \"Sexy Jutsu\"!\\n You fool! Stop making idiotic spells!\\n Darn…\\n Darn…\\n I won\\'t let you go home unless you clean that all up.\\n I don\\'t care…\\n There\\'s nobody home anyway.\\n Naruto...\\n What is it this time?\\n What I meant was…\\n If you clean up all that mess, I\\'ll buy you ramen tonight.\\n Huh?!\\n Yes! I-I will finish it no time!\\n Enter: Naruto Uzumaki!\\n Naruto.\\n Why did you vandalize those faces?\\n Don\\'t you know who the Hokage leaders are?\\n Of course, I do!\\n I know they earned the title Lord Hokage\\n because they were the best Ninja of their time, right?\\n Especially the Fourth Hokage was a hero\\n who saved the village from the nine-tail demon fox.\\n Then why did you do that?\\n Because I\\'ll become a Hokage myself.\\n And I\\'ll be the greatest Hokage of all time!\\n So that everyone will finally learn to accept me!\\n By the way, Sensei, I have a favor to ask.\\n You want another bowl?\\n Mmmm…No…\\n Can I borrow that Leaf headband for a while?\\n This?\\n No no!\\n This is worn only by those who have graduated from Ninja Academy.\\n Tomorrow, you will…\\n You\\'re so mean!\\n So that\\'s why you took off your goggles…\\n Humph... One more bowl please!\\n We are now about to begin the graduation test.\\n When your name is called, proceed to the next classroom.\\n The test is on the Clone Jutsu.\\n Oh no…\\n Of all the…! That is my weakest Jutsu!\\n But still… I will do it no matter what!\\n Clone Jutsu!\\n Disqualified!\\n Iruka Sensei.\\n His physical coordination and stamina are excellent.\\n And he managed to come up with something.\\n Isn\\'t that enough for him to pass?\\n Mizuki Sensei... All the others created three or more clones.\\n Naruto created just one.\\n And it\\'s practically useless. I can\\'t give him a passing mark.\\n I \\'m a Ninja now!\\n You did well. That\\'s my son.\\n Congratulations for your graduation.\\n I\\'ll cook something good tonight!\\n Look at that one.\\n It\\'s that boy. I hear he\\'s the only one who failed.\\n Serves him right.\\n Imagine what would happen if he became a Ninja.\\n Isn\\'t that the boy who is actually…\\n Hey! We\\'re not supposed to talk about that.\\n Iruka. We need to talk later.\\n Yes, sir.\\n Iruka Sensei isn\\'t trying to be mean to you.\\n Then why only me?\\n He wants you to become strong from the bottom of his heart.\\n You both don\\'t have parents.\\n But I really wanted to graduate.\\n Heh... I guess I have no choice…\\n I\\'ll let you in on a big secret.\\n Secret?\\n Iruka.\\n What is it, Lord Hokage?\\n I know how you feel. But…\\n Naruto also grew up without knowing the love of his parents…like you.\\n Let me go!\\n My mom and dad are still out there fighting!\\n Wake up, Iruka Sensei!\\n What\\'s the matter?\\n Come to Lord Hokage\\'s immediately!\\n I heard that Naruto… stole the Scroll of Sealing.\\n The Scroll of Sealing?!\\n Let\\'s see…\\n The first Jutsu is… Multi-Shadow Clone Jutsu?\\n What?! Already a Jutsu I\\'m no good at?\\n Lord Hokage! We can\\'t forgive him!\\n This is not just a prank!\\n The Scroll is a dangerous item that the First Hokage sealed!\\n Depending on its use…\\n It will be a major disaster if it is taken out of the village!\\n Yes. Bring Naruto here at once!\\n Yes, sir!\\n Where did you go…Naruto?\\n I will tell everyone in the village about this and eliminate Naruto…\\n Then the Scroll of Sealing will be mine!\\n Hey you, Naruto!\\n You found me..\\n And I\\'ve only learned one Jutsu.\\n He\\'s been practicing the Jutsu…\\n until he\\'s become this exhausted and dirty…?\\n Listen, listen! I\\'m gonna show you this amazing Jutsu!\\n You\\'re gonna let me graduate if I can do it!\\n Isn\\'t it true that I can graduate if I can do one of the Jutsu written here?\\n Who told you that?\\n Mizuki Sensei. He told me about this scroll, and this place…\\n Mizuki did?!\\n I\\'m impressed you found this place.\\n I see now…how it is.\\n Naruto, give me that scroll.\\n Wait, wait… What\\'s going on here?\\n Naruto! Never give him that scroll!\\n It is a dangerous object that contains forbidden Ninja Jutsu. It was sealed.\\n Mizuki used you in order to get it for himself!\\n W-Wha--?\\n Naruto, Iruka is only afraid of you holding that scroll!\\n Huh?\\n What are you saying, Mizuki! Don\\'t let him fool you, Naruto!\\n I will tell you the truth.\\n Idiot! Don\\'t do that!\\n After an incident 12 years ago, a rule was created.\\n A rule?\\n That is, Naruto, a rule everybody but you knows.\\n Except me?! \\t\\t\\t\\t\\tWhat is it?\\n Stop it, Mizuki!\\n The rule forbids anyone from revealing that you are actually the Demon Fox Spirit!\\n Huh?\\n You are actually the Demon, Nine-Tailed Fox Spirit,\\n who killed Iruka\\'s parents and destroyed our village!\\n Stop it!\\n Everyone has been deceiving you ever since.\\n Didn\\'t you find it strange?\\n Why everyone hated you so much?\\n No! No! No! No! No!\\n Naruto…\\n Nobody accepts you. That\\'s why Iruka hates you so much!\\n Iruka... Naruto grew up without the love of parents.\\n Everyone avoids him like the plague after what happened.\\n That\\'s why he keeps misbehaving.\\n It\\'s the only way for him to get any attention or acknowledgement.\\n He pretends to be tough, but inside he is really hurting.\\n Die, Naruto!\\n Naruto! \\t\\t\\t\\t\\tGet down!\\n Why…?\\n Because you and I are the same.\\n After my parents died,\\n nobody paid attention to me or gave me any support.\\n I wasn\\'t a good student in school.\\n I was the class clown… because I wanted people to notice me.\\n I couldn\\'t get noticed through excellence, so I kept doing stupid things.\\n It was so hard.\\n Isn\\'t that right, Naruto?\\n You felt so lonely…right? And you suffered inside, right?\\n I\\'m sorry, Naruto….\\n If I had been more responsible, maybe you wouldn\\'t have suffered so much.\\n Don\\'t make me laugh!\\n Iruka has always hated you, ever since you killed his parents!\\n He\\'s just saying all that to get the Scroll of Sealing back!\\n Naruto!\\n Narutoooooo!\\n He is not the type of kid who will change his mind.\\n He will take revenge against our village using that scroll!\\n Didn\\'t you see his eyes? Those are the eyes of a Demon Fox.\\n No… Naruto…isn\\'t…like that at all!\\n All I want is to kill Naruto and get the scroll.\\n I\\'ll take care of you later!\\n I-I won\\'t let you…\\n Well, well.\\n Mizuki has a big mouth!\\n Naruto feels worse than he\\'s ever felt.\\n He might unleash the power locked up inside him.\\n The Scroll of Sealing is now with him.\\n There\\'s a slight chance he might actually release\\n the Nine-Tailed Fox Spirit sealed inside him!\\n If that happens…\\n I\\'ve found him!\\n Naruto!\\n Everything that Mizuki said was a lie!\\n Give me that scroll, quick! Mizuki is after the scroll!\\n It can\\'t be…\\n Why is it, Naruto?\\n How…\\n did you know I wasn\\'t Iruka…?\\n Because I\\'m Iruka.\\n I see.\\n What\\'s in it for you to protect the one who killed your family?\\n I\\'m not gonna let a stupid idiot like you get that scroll!\\n You\\'re the idiot. Naruto is the same as me.\\n Same?\\n Anyone can do whatever he wants once he has the scroll.\\n There is no way that that monster…\\n that Fox Spirit, won\\'t take advantage of the power of that scroll!\\n You\\'re right…\\n I guess it was true all along!\\n See, Iruka Sensei never really cared for me at all!\\n ...if he was the Demon Fox Spirit.\\n But Naruto is different!\\n I know that he is an exceptional student.\\n He works very hard,\\n and he\\'s single-minded and clumsy at the same time.\\n No one accepts him, but he knows the meaning of human suffering.\\n He is not the Demon Fox Spirit.\\n He\\'s Naruto Uzumaki of the Village Hidden in the Leaves!\\n You are so gullible. \\t\\t\\t\\t\\tlruka!\\n I was gonna take you down later, but I have changed my mind.\\n Die!\\n I guess this is the end for me…\\n Naruto?!\\n You surprised me there, freak.\\n If you ever lay a hand on Iruka Sensei, I\\'ll kill you!\\n Shut up! I can take care of a kid like you with a single blow!\\n Why don\\'t you try then? I\\'ll strike you back a thousand-fold!\\n Let\\'s see you try! Show me what you can do, Demon Fox!\\n Shadow Clone Jutsu!\\n Naruto! You\\'ve…\\n Those aren\\'t just images but actual clones! That\\'s an advanced Ninjutsu!\\n What\\'s this…?\\n What\\'s the matter? \\t\\t\\t\\t\\tC\\'mon!\\n Weren\\'t you gonna get me with one blow? Here!\\n In that case… I\\'ll come to you.\\n I kinda got carried away. lruka Sensei, are you okay?\\n Yeah.\\n He\\'s really something.\\n Maybe it is true.\\n Maybe he will surpass all the Hokage leaders…\\n Naruto, come over here. I\\'d like to give you something.\\n Has anyone found Naruto yet?\\n No.\\n Darn, this is going to be bad…\\n There\\'s no need to worry anymore.\\n Lord Hokage!\\n He\\'ll be back soon.\\n Sensei, how much longer?\\n OK, you may open your eyes now.\\n Congratulations…on your graduation.\\n In celebration, we\\'ll have ramen tonight!\\n Iruka Sensei!\\n That hurts!\\n Naruto…\\n I was going to lecture to you...\\n that the road gets more difficult now that you\\'re a Ninja.\\n But I guess I\\'ll just wait to tell you that until we get to the ramen stand…\\n W-What do you want, you little shrimp? Quit following me!\\n You\\'re smaller than me and\\n you\\'re saying that you\\'re gonna become the Fifth Hokage?\\n I don\\'t care if you are the 3rd Hokage\\'s grandson or not.\\n It\\'s not that easy to be a Hokage!\\n If you want it that bad, you\\'re gonna have to beat me first!\\n Next episode:  \"My Name Is Konohamaru!\"\\n Watch my outstanding performance!\\n'"
      ]
     },
     "execution_count": 20,
     "metadata": {},
     "output_type": "execute_result"
    }
   ],
   "source": [
    "script = df.iloc[0][\"script\"]\n",
    "script"
   ]
  },
  {
   "cell_type": "markdown",
   "metadata": {},
   "source": [
    "### To fit nlp token maximum :"
   ]
  },
  {
   "cell_type": "code",
   "execution_count": 21,
   "metadata": {},
   "outputs": [
    {
     "data": {
      "text/plain": [
       "['A long time ago, a powerful demon fox appeared with nine tails.',\n",
       " 'With its powerful tails,\\n it could smash mountains and create tidal waves.',\n",
       " 'A band of Ninjas rose to defend their village from attack.']"
      ]
     },
     "execution_count": 21,
     "metadata": {},
     "output_type": "execute_result"
    }
   ],
   "source": [
    "script_sentence = sent_tokenize(script)\n",
    "script_sentence[:3]"
   ]
  },
  {
   "cell_type": "code",
   "execution_count": 22,
   "metadata": {},
   "outputs": [],
   "source": [
    "sentence_batch_size = 20\n",
    "script_batches = []\n",
    "for index in range(0,len(script_sentence),sentence_batch_size):\n",
    "    sent = \" \".join(script_sentence[index:index+sentence_batch_size])\n",
    "    script_batches.append(sent)\n"
   ]
  },
  {
   "cell_type": "code",
   "execution_count": 23,
   "metadata": {},
   "outputs": [
    {
     "data": {
      "text/plain": [
       "[\"A long time ago, a powerful demon fox appeared with nine tails. With its powerful tails,\\n it could smash mountains and create tidal waves. A band of Ninjas rose to defend their village from attack. We have to wait until the Fourth Hokage gets here! We can't let it get any closer to our village! One great Ninja was able to imprison the monster,\\n but died in the process. This Ninja was known as… the Fourth Hokage. Naruto! Why did you do such a thing?! You're really gonna get it this time! I don't care! You know your problem? You can't do the things I do! Only I can do this! I'm better than all of you! Believe it! There's a problem, sir! Lord Hokage! What is it? Did that Naruto do something again?\",\n",
       " 'Yes. He climbed onto the Mountainside Images…\\n And he vandalized and graffitied all over them! Wait! Ha ha…\\n Why should I? Hey, Naruto! How did you suddenly get here, lruka Sensei? The question is what are you doing here when you should be in class now? Now listen, Naruto. You failed the last graduation test and the one before that. This is no time to be goofing off, you fool! We will have a re-test on the Transformation Jutsu! Even those who already passed will take it! Whaaaat?! Sakura Haruno. Here I go…\\n Transform! OK! I did it! Cha! Did you see that, Sasuke? Next, Sasuke Uchiha.']"
      ]
     },
     "execution_count": 23,
     "metadata": {},
     "output_type": "execute_result"
    }
   ],
   "source": [
    "script_batches[:2]"
   ]
  },
  {
   "cell_type": "code",
   "execution_count": 24,
   "metadata": {},
   "outputs": [
    {
     "data": {
      "text/plain": [
       "\"A long time ago, a powerful demon fox appeared with nine tails. With its powerful tails,\\n it could smash mountains and create tidal waves. A band of Ninjas rose to defend their village from attack. We have to wait until the Fourth Hokage gets here! We can't let it get any closer to our village! One great Ninja was able to imprison the monster,\\n but died in the process. This Ninja was known as… the Fourth Hokage. Naruto! Why did you do such a thing?! You're really gonna get it this time! I don't care! You know your problem? You can't do the things I do! Only I can do this! I'm better than all of you! Believe it! There's a problem, sir! Lord Hokage! What is it? Did that Naruto do something again?\""
      ]
     },
     "execution_count": 24,
     "metadata": {},
     "output_type": "execute_result"
    }
   ],
   "source": [
    "script_batches[0]"
   ]
  },
  {
   "cell_type": "code",
   "execution_count": 25,
   "metadata": {},
   "outputs": [],
   "source": [
    "theme_output = theme_classifier(\n",
    "    script_batches[:2],\n",
    "    theme_list,\n",
    "    multi_label=True\n",
    ")"
   ]
  },
  {
   "cell_type": "code",
   "execution_count": 26,
   "metadata": {},
   "outputs": [
    {
     "data": {
      "text/plain": [
       "[{'sequence': \"A long time ago, a powerful demon fox appeared with nine tails. With its powerful tails,\\n it could smash mountains and create tidal waves. A band of Ninjas rose to defend their village from attack. We have to wait until the Fourth Hokage gets here! We can't let it get any closer to our village! One great Ninja was able to imprison the monster,\\n but died in the process. This Ninja was known as… the Fourth Hokage. Naruto! Why did you do such a thing?! You're really gonna get it this time! I don't care! You know your problem? You can't do the things I do! Only I can do this! I'm better than all of you! Believe it! There's a problem, sir! Lord Hokage! What is it? Did that Naruto do something again?\",\n",
       "  'labels': ['dialogue',\n",
       "   'betrayal',\n",
       "   'battle',\n",
       "   'sacrifice',\n",
       "   'self development',\n",
       "   'hope',\n",
       "   'friendship',\n",
       "   'love'],\n",
       "  'scores': [0.9800741672515869,\n",
       "   0.9396902918815613,\n",
       "   0.8546884655952454,\n",
       "   0.7349814772605896,\n",
       "   0.7284975051879883,\n",
       "   0.19909833371639252,\n",
       "   0.059223245829343796,\n",
       "   0.04026196151971817]},\n",
       " {'sequence': 'Yes. He climbed onto the Mountainside Images…\\n And he vandalized and graffitied all over them! Wait! Ha ha…\\n Why should I? Hey, Naruto! How did you suddenly get here, lruka Sensei? The question is what are you doing here when you should be in class now? Now listen, Naruto. You failed the last graduation test and the one before that. This is no time to be goofing off, you fool! We will have a re-test on the Transformation Jutsu! Even those who already passed will take it! Whaaaat?! Sakura Haruno. Here I go…\\n Transform! OK! I did it! Cha! Did you see that, Sasuke? Next, Sasuke Uchiha.',\n",
       "  'labels': ['dialogue',\n",
       "   'self development',\n",
       "   'battle',\n",
       "   'betrayal',\n",
       "   'sacrifice',\n",
       "   'hope',\n",
       "   'friendship',\n",
       "   'love'],\n",
       "  'scores': [0.9370128512382507,\n",
       "   0.8678209185600281,\n",
       "   0.6581320762634277,\n",
       "   0.6457251906394958,\n",
       "   0.6258841156959534,\n",
       "   0.2042398750782013,\n",
       "   0.08603337407112122,\n",
       "   0.028020566329360008]}]"
      ]
     },
     "execution_count": 26,
     "metadata": {},
     "output_type": "execute_result"
    }
   ],
   "source": [
    "theme_output"
   ]
  },
  {
   "cell_type": "code",
   "execution_count": 27,
   "metadata": {},
   "outputs": [],
   "source": [
    "themes = {}\n",
    "for output in theme_output :\n",
    "    for label , score in zip(output['labels'],output['scores']):\n",
    "        if label not in themes:\n",
    "            themes[label] = []\n",
    "        themes[label].append(score)\n",
    "    "
   ]
  },
  {
   "cell_type": "code",
   "execution_count": 28,
   "metadata": {},
   "outputs": [
    {
     "data": {
      "text/plain": [
       "{'dialogue': [0.9800741672515869, 0.9370128512382507],\n",
       " 'betrayal': [0.9396902918815613, 0.6457251906394958],\n",
       " 'battle': [0.8546884655952454, 0.6581320762634277],\n",
       " 'sacrifice': [0.7349814772605896, 0.6258841156959534],\n",
       " 'self development': [0.7284975051879883, 0.8678209185600281],\n",
       " 'hope': [0.19909833371639252, 0.2042398750782013],\n",
       " 'friendship': [0.059223245829343796, 0.08603337407112122],\n",
       " 'love': [0.04026196151971817, 0.028020566329360008]}"
      ]
     },
     "execution_count": 28,
     "metadata": {},
     "output_type": "execute_result"
    }
   ],
   "source": [
    "themes"
   ]
  },
  {
   "cell_type": "markdown",
   "metadata": {},
   "source": [
    "## all these steps In 1 function :"
   ]
  },
  {
   "cell_type": "code",
   "execution_count": 29,
   "metadata": {},
   "outputs": [],
   "source": [
    "def get_themes_inference(script):\n",
    "    script_sentences = sent_tokenize(script)\n",
    "\n",
    "    # Batch Sentence\n",
    "    sentence_batch_size=20\n",
    "    script_batches = []\n",
    "    for index in range(0,len(script_sentences),sentence_batch_size):\n",
    "        sent = \" \".join(script_sentences[index:index+sentence_batch_size])\n",
    "        script_batches.append(sent)\n",
    "    \n",
    "    # Run Model\n",
    "    theme_output = theme_classifier(\n",
    "        script_batches[:2],\n",
    "        theme_list,\n",
    "        multi_label=True\n",
    "    )\n",
    "\n",
    "    # Wrangle Output \n",
    "    themes = {}\n",
    "    for output in theme_output:\n",
    "        for label,score in zip(output['labels'],output['scores']):\n",
    "            if label not in themes:\n",
    "                themes[label] = []\n",
    "            themes[label].append(score)\n",
    "\n",
    "    themes = {key: np.mean(np.array(value)) for key,value in themes.items()}\n",
    "\n",
    "    return themes"
   ]
  },
  {
   "cell_type": "code",
   "execution_count": 30,
   "metadata": {},
   "outputs": [
    {
     "data": {
      "text/html": [
       "<div>\n",
       "<style scoped>\n",
       "    .dataframe tbody tr th:only-of-type {\n",
       "        vertical-align: middle;\n",
       "    }\n",
       "\n",
       "    .dataframe tbody tr th {\n",
       "        vertical-align: top;\n",
       "    }\n",
       "\n",
       "    .dataframe thead th {\n",
       "        text-align: right;\n",
       "    }\n",
       "</style>\n",
       "<table border=\"1\" class=\"dataframe\">\n",
       "  <thead>\n",
       "    <tr style=\"text-align: right;\">\n",
       "      <th></th>\n",
       "      <th>episode</th>\n",
       "      <th>script</th>\n",
       "    </tr>\n",
       "  </thead>\n",
       "  <tbody>\n",
       "    <tr>\n",
       "      <th>0</th>\n",
       "      <td>1</td>\n",
       "      <td>A long time ago, a powerful demon fox appeared...</td>\n",
       "    </tr>\n",
       "    <tr>\n",
       "      <th>1</th>\n",
       "      <td>2</td>\n",
       "      <td>C'mon!\\n Running like a fugitive,\\n Being chas...</td>\n",
       "    </tr>\n",
       "  </tbody>\n",
       "</table>\n",
       "</div>"
      ],
      "text/plain": [
       "   episode                                             script\n",
       "0        1  A long time ago, a powerful demon fox appeared...\n",
       "1        2  C'mon!\\n Running like a fugitive,\\n Being chas..."
      ]
     },
     "execution_count": 30,
     "metadata": {},
     "output_type": "execute_result"
    }
   ],
   "source": [
    "df = df.head(2)\n",
    "df"
   ]
  },
  {
   "cell_type": "code",
   "execution_count": 31,
   "metadata": {},
   "outputs": [
    {
     "data": {
      "text/plain": [
       "0    {'dialogue': 0.9585435092449188, 'betrayal': 0...\n",
       "1    {'dialogue': 0.9606061279773712, 'sacrifice': ...\n",
       "Name: script, dtype: object"
      ]
     },
     "execution_count": 31,
     "metadata": {},
     "output_type": "execute_result"
    }
   ],
   "source": [
    "output_themes = df['script'].apply(get_themes_inference)\n",
    "output_themes "
   ]
  },
  {
   "cell_type": "code",
   "execution_count": 32,
   "metadata": {},
   "outputs": [
    {
     "data": {
      "text/html": [
       "<div>\n",
       "<style scoped>\n",
       "    .dataframe tbody tr th:only-of-type {\n",
       "        vertical-align: middle;\n",
       "    }\n",
       "\n",
       "    .dataframe tbody tr th {\n",
       "        vertical-align: top;\n",
       "    }\n",
       "\n",
       "    .dataframe thead th {\n",
       "        text-align: right;\n",
       "    }\n",
       "</style>\n",
       "<table border=\"1\" class=\"dataframe\">\n",
       "  <thead>\n",
       "    <tr style=\"text-align: right;\">\n",
       "      <th></th>\n",
       "      <th>dialogue</th>\n",
       "      <th>betrayal</th>\n",
       "      <th>battle</th>\n",
       "      <th>sacrifice</th>\n",
       "      <th>self development</th>\n",
       "      <th>hope</th>\n",
       "      <th>friendship</th>\n",
       "      <th>love</th>\n",
       "    </tr>\n",
       "  </thead>\n",
       "  <tbody>\n",
       "    <tr>\n",
       "      <th>0</th>\n",
       "      <td>0.958544</td>\n",
       "      <td>0.792708</td>\n",
       "      <td>0.756410</td>\n",
       "      <td>0.680433</td>\n",
       "      <td>0.798159</td>\n",
       "      <td>0.201669</td>\n",
       "      <td>0.072628</td>\n",
       "      <td>0.034141</td>\n",
       "    </tr>\n",
       "    <tr>\n",
       "      <th>1</th>\n",
       "      <td>0.960606</td>\n",
       "      <td>0.429944</td>\n",
       "      <td>0.684845</td>\n",
       "      <td>0.570704</td>\n",
       "      <td>0.482811</td>\n",
       "      <td>0.154533</td>\n",
       "      <td>0.046261</td>\n",
       "      <td>0.173261</td>\n",
       "    </tr>\n",
       "  </tbody>\n",
       "</table>\n",
       "</div>"
      ],
      "text/plain": [
       "   dialogue  betrayal    battle  sacrifice  self development      hope  \\\n",
       "0  0.958544  0.792708  0.756410   0.680433          0.798159  0.201669   \n",
       "1  0.960606  0.429944  0.684845   0.570704          0.482811  0.154533   \n",
       "\n",
       "   friendship      love  \n",
       "0    0.072628  0.034141  \n",
       "1    0.046261  0.173261  "
      ]
     },
     "execution_count": 32,
     "metadata": {},
     "output_type": "execute_result"
    }
   ],
   "source": [
    "theme_df = pd.DataFrame(output_themes.tolist())\n",
    "theme_df"
   ]
  },
  {
   "cell_type": "code",
   "execution_count": 33,
   "metadata": {},
   "outputs": [
    {
     "data": {
      "text/html": [
       "<div>\n",
       "<style scoped>\n",
       "    .dataframe tbody tr th:only-of-type {\n",
       "        vertical-align: middle;\n",
       "    }\n",
       "\n",
       "    .dataframe tbody tr th {\n",
       "        vertical-align: top;\n",
       "    }\n",
       "\n",
       "    .dataframe thead th {\n",
       "        text-align: right;\n",
       "    }\n",
       "</style>\n",
       "<table border=\"1\" class=\"dataframe\">\n",
       "  <thead>\n",
       "    <tr style=\"text-align: right;\">\n",
       "      <th></th>\n",
       "      <th>episode</th>\n",
       "      <th>script</th>\n",
       "      <th>dialogue</th>\n",
       "      <th>betrayal</th>\n",
       "      <th>battle</th>\n",
       "      <th>sacrifice</th>\n",
       "      <th>self development</th>\n",
       "      <th>hope</th>\n",
       "      <th>friendship</th>\n",
       "      <th>love</th>\n",
       "    </tr>\n",
       "  </thead>\n",
       "  <tbody>\n",
       "    <tr>\n",
       "      <th>0</th>\n",
       "      <td>1</td>\n",
       "      <td>A long time ago, a powerful demon fox appeared...</td>\n",
       "      <td>0.958544</td>\n",
       "      <td>0.792708</td>\n",
       "      <td>0.756410</td>\n",
       "      <td>0.680433</td>\n",
       "      <td>0.798159</td>\n",
       "      <td>0.201669</td>\n",
       "      <td>0.072628</td>\n",
       "      <td>0.034141</td>\n",
       "    </tr>\n",
       "    <tr>\n",
       "      <th>1</th>\n",
       "      <td>2</td>\n",
       "      <td>C'mon!\\n Running like a fugitive,\\n Being chas...</td>\n",
       "      <td>0.960606</td>\n",
       "      <td>0.429944</td>\n",
       "      <td>0.684845</td>\n",
       "      <td>0.570704</td>\n",
       "      <td>0.482811</td>\n",
       "      <td>0.154533</td>\n",
       "      <td>0.046261</td>\n",
       "      <td>0.173261</td>\n",
       "    </tr>\n",
       "  </tbody>\n",
       "</table>\n",
       "</div>"
      ],
      "text/plain": [
       "   episode                                             script  dialogue  \\\n",
       "0        1  A long time ago, a powerful demon fox appeared...  0.958544   \n",
       "1        2  C'mon!\\n Running like a fugitive,\\n Being chas...  0.960606   \n",
       "\n",
       "   betrayal    battle  sacrifice  self development      hope  friendship  \\\n",
       "0  0.792708  0.756410   0.680433          0.798159  0.201669    0.072628   \n",
       "1  0.429944  0.684845   0.570704          0.482811  0.154533    0.046261   \n",
       "\n",
       "       love  \n",
       "0  0.034141  \n",
       "1  0.173261  "
      ]
     },
     "execution_count": 33,
     "metadata": {},
     "output_type": "execute_result"
    }
   ],
   "source": [
    "df[theme_df.columns] = theme_df\n",
    "df"
   ]
  },
  {
   "cell_type": "markdown",
   "metadata": {},
   "source": [
    "## Visualize  Output : "
   ]
  },
  {
   "cell_type": "code",
   "execution_count": 34,
   "metadata": {},
   "outputs": [
    {
     "data": {
      "text/html": [
       "<div>\n",
       "<style scoped>\n",
       "    .dataframe tbody tr th:only-of-type {\n",
       "        vertical-align: middle;\n",
       "    }\n",
       "\n",
       "    .dataframe tbody tr th {\n",
       "        vertical-align: top;\n",
       "    }\n",
       "\n",
       "    .dataframe thead th {\n",
       "        text-align: right;\n",
       "    }\n",
       "</style>\n",
       "<table border=\"1\" class=\"dataframe\">\n",
       "  <thead>\n",
       "    <tr style=\"text-align: right;\">\n",
       "      <th></th>\n",
       "      <th>index</th>\n",
       "      <th>0</th>\n",
       "    </tr>\n",
       "  </thead>\n",
       "  <tbody>\n",
       "    <tr>\n",
       "      <th>0</th>\n",
       "      <td>dialogue</td>\n",
       "      <td>1.919150</td>\n",
       "    </tr>\n",
       "    <tr>\n",
       "      <th>1</th>\n",
       "      <td>betrayal</td>\n",
       "      <td>1.222652</td>\n",
       "    </tr>\n",
       "    <tr>\n",
       "      <th>2</th>\n",
       "      <td>battle</td>\n",
       "      <td>1.441256</td>\n",
       "    </tr>\n",
       "    <tr>\n",
       "      <th>3</th>\n",
       "      <td>sacrifice</td>\n",
       "      <td>1.251137</td>\n",
       "    </tr>\n",
       "    <tr>\n",
       "      <th>4</th>\n",
       "      <td>self development</td>\n",
       "      <td>1.280970</td>\n",
       "    </tr>\n",
       "    <tr>\n",
       "      <th>5</th>\n",
       "      <td>hope</td>\n",
       "      <td>0.356202</td>\n",
       "    </tr>\n",
       "    <tr>\n",
       "      <th>6</th>\n",
       "      <td>friendship</td>\n",
       "      <td>0.118889</td>\n",
       "    </tr>\n",
       "    <tr>\n",
       "      <th>7</th>\n",
       "      <td>love</td>\n",
       "      <td>0.207402</td>\n",
       "    </tr>\n",
       "  </tbody>\n",
       "</table>\n",
       "</div>"
      ],
      "text/plain": [
       "              index         0\n",
       "0          dialogue  1.919150\n",
       "1          betrayal  1.222652\n",
       "2            battle  1.441256\n",
       "3         sacrifice  1.251137\n",
       "4  self development  1.280970\n",
       "5              hope  0.356202\n",
       "6        friendship  0.118889\n",
       "7              love  0.207402"
      ]
     },
     "execution_count": 34,
     "metadata": {},
     "output_type": "execute_result"
    }
   ],
   "source": [
    "theme_output = df.drop(['episode','script'],axis=1).sum().reset_index()\n",
    "theme_output"
   ]
  },
  {
   "cell_type": "code",
   "execution_count": 35,
   "metadata": {},
   "outputs": [
    {
     "data": {
      "text/html": [
       "<div>\n",
       "<style scoped>\n",
       "    .dataframe tbody tr th:only-of-type {\n",
       "        vertical-align: middle;\n",
       "    }\n",
       "\n",
       "    .dataframe tbody tr th {\n",
       "        vertical-align: top;\n",
       "    }\n",
       "\n",
       "    .dataframe thead th {\n",
       "        text-align: right;\n",
       "    }\n",
       "</style>\n",
       "<table border=\"1\" class=\"dataframe\">\n",
       "  <thead>\n",
       "    <tr style=\"text-align: right;\">\n",
       "      <th></th>\n",
       "      <th>theme</th>\n",
       "      <th>score</th>\n",
       "    </tr>\n",
       "  </thead>\n",
       "  <tbody>\n",
       "    <tr>\n",
       "      <th>0</th>\n",
       "      <td>dialogue</td>\n",
       "      <td>1.919150</td>\n",
       "    </tr>\n",
       "    <tr>\n",
       "      <th>1</th>\n",
       "      <td>betrayal</td>\n",
       "      <td>1.222652</td>\n",
       "    </tr>\n",
       "    <tr>\n",
       "      <th>2</th>\n",
       "      <td>battle</td>\n",
       "      <td>1.441256</td>\n",
       "    </tr>\n",
       "    <tr>\n",
       "      <th>3</th>\n",
       "      <td>sacrifice</td>\n",
       "      <td>1.251137</td>\n",
       "    </tr>\n",
       "    <tr>\n",
       "      <th>4</th>\n",
       "      <td>self development</td>\n",
       "      <td>1.280970</td>\n",
       "    </tr>\n",
       "    <tr>\n",
       "      <th>5</th>\n",
       "      <td>hope</td>\n",
       "      <td>0.356202</td>\n",
       "    </tr>\n",
       "    <tr>\n",
       "      <th>6</th>\n",
       "      <td>friendship</td>\n",
       "      <td>0.118889</td>\n",
       "    </tr>\n",
       "    <tr>\n",
       "      <th>7</th>\n",
       "      <td>love</td>\n",
       "      <td>0.207402</td>\n",
       "    </tr>\n",
       "  </tbody>\n",
       "</table>\n",
       "</div>"
      ],
      "text/plain": [
       "              theme     score\n",
       "0          dialogue  1.919150\n",
       "1          betrayal  1.222652\n",
       "2            battle  1.441256\n",
       "3         sacrifice  1.251137\n",
       "4  self development  1.280970\n",
       "5              hope  0.356202\n",
       "6        friendship  0.118889\n",
       "7              love  0.207402"
      ]
     },
     "execution_count": 35,
     "metadata": {},
     "output_type": "execute_result"
    }
   ],
   "source": [
    "theme_output.columns = ['theme','score']\n",
    "theme_output"
   ]
  },
  {
   "cell_type": "code",
   "execution_count": 36,
   "metadata": {},
   "outputs": [
    {
     "name": "stdout",
     "output_type": "stream",
     "text": [
      "Requirement already satisfied: seaborn in c:\\users\\user\\appdata\\local\\programs\\python\\python312\\lib\\site-packages (0.13.2)\n",
      "Requirement already satisfied: numpy!=1.24.0,>=1.20 in c:\\users\\user\\appdata\\local\\programs\\python\\python312\\lib\\site-packages (from seaborn) (2.0.2)\n",
      "Requirement already satisfied: pandas>=1.2 in c:\\users\\user\\appdata\\local\\programs\\python\\python312\\lib\\site-packages (from seaborn) (2.2.3)\n",
      "Requirement already satisfied: matplotlib!=3.6.1,>=3.4 in c:\\users\\user\\appdata\\local\\programs\\python\\python312\\lib\\site-packages (from seaborn) (3.9.2)\n",
      "Requirement already satisfied: contourpy>=1.0.1 in c:\\users\\user\\appdata\\local\\programs\\python\\python312\\lib\\site-packages (from matplotlib!=3.6.1,>=3.4->seaborn) (1.3.0)\n",
      "Requirement already satisfied: cycler>=0.10 in c:\\users\\user\\appdata\\local\\programs\\python\\python312\\lib\\site-packages (from matplotlib!=3.6.1,>=3.4->seaborn) (0.12.1)\n",
      "Requirement already satisfied: fonttools>=4.22.0 in c:\\users\\user\\appdata\\local\\programs\\python\\python312\\lib\\site-packages (from matplotlib!=3.6.1,>=3.4->seaborn) (4.54.1)\n",
      "Requirement already satisfied: kiwisolver>=1.3.1 in c:\\users\\user\\appdata\\local\\programs\\python\\python312\\lib\\site-packages (from matplotlib!=3.6.1,>=3.4->seaborn) (1.4.7)\n",
      "Requirement already satisfied: packaging>=20.0 in c:\\users\\user\\appdata\\local\\programs\\python\\python312\\lib\\site-packages (from matplotlib!=3.6.1,>=3.4->seaborn) (24.1)\n",
      "Requirement already satisfied: pillow>=8 in c:\\users\\user\\appdata\\local\\programs\\python\\python312\\lib\\site-packages (from matplotlib!=3.6.1,>=3.4->seaborn) (10.4.0)\n",
      "Requirement already satisfied: pyparsing>=2.3.1 in c:\\users\\user\\appdata\\local\\programs\\python\\python312\\lib\\site-packages (from matplotlib!=3.6.1,>=3.4->seaborn) (3.2.0)\n",
      "Requirement already satisfied: python-dateutil>=2.7 in c:\\users\\user\\appdata\\local\\programs\\python\\python312\\lib\\site-packages (from matplotlib!=3.6.1,>=3.4->seaborn) (2.9.0.post0)\n",
      "Requirement already satisfied: pytz>=2020.1 in c:\\users\\user\\appdata\\local\\programs\\python\\python312\\lib\\site-packages (from pandas>=1.2->seaborn) (2024.2)\n",
      "Requirement already satisfied: tzdata>=2022.7 in c:\\users\\user\\appdata\\local\\programs\\python\\python312\\lib\\site-packages (from pandas>=1.2->seaborn) (2024.2)\n",
      "Requirement already satisfied: six>=1.5 in c:\\users\\user\\appdata\\local\\programs\\python\\python312\\lib\\site-packages (from python-dateutil>=2.7->matplotlib!=3.6.1,>=3.4->seaborn) (1.16.0)\n"
     ]
    }
   ],
   "source": [
    "import matplotlib.pyplot as plt\n",
    "!pip install seaborn\n",
    "import seaborn as sns"
   ]
  },
  {
   "cell_type": "code",
   "execution_count": 37,
   "metadata": {},
   "outputs": [
    {
     "data": {
      "image/png": "[encoded data removed]",
      "text/plain": [
       "<Figure size 640x480 with 1 Axes>"
      ]
     },
     "metadata": {},
     "output_type": "display_data"
    }
   ],
   "source": [
    "sns.barplot(data = theme_output ,x=\"theme\",y=\"score\" )\n",
    "plt.xticks(rotation=45)\n",
    "plt.show()"
   ]
  }
 ],
 "metadata": {
  "kernelspec": {
   "display_name": "Python 3",
   "language": "python",
   "name": "python3"
  },
  "language_info": {
   "codemirror_mode": {
    "name": "ipython",
    "version": 3
   },
   "file_extension": ".py",
   "mimetype": "text/x-python",
   "name": "python",
   "nbconvert_exporter": "python",
   "pygments_lexer": "ipython3",
   "version": "3.12.5"
  }
 },
 "nbformat": 4,
 "nbformat_minor": 2
}
